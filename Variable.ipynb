{
  "nbformat": 4,
  "nbformat_minor": 0,
  "metadata": {
    "colab": {
      "provenance": [],
      "authorship_tag": "ABX9TyOtHHy3VRu6v2Q9Pcc2naOT",
      "include_colab_link": true
    },
    "kernelspec": {
      "name": "python3",
      "display_name": "Python 3"
    },
    "language_info": {
      "name": "python"
    }
  },
  "cells": [
    {
      "cell_type": "markdown",
      "metadata": {
        "id": "view-in-github",
        "colab_type": "text"
      },
      "source": [
        "<a href=\"https://colab.research.google.com/github/safian029083/bath67/blob/main/Variable.ipynb\" target=\"_parent\"><img src=\"https://colab.research.google.com/assets/colab-badge.svg\" alt=\"Open In Colab\"/></a>"
      ]
    },
    {
      "cell_type": "code",
      "source": [
        "# Task 1:Printing a Message"
      ],
      "metadata": {
        "id": "QV3tIl7uJSbn"
      },
      "execution_count": null,
      "outputs": []
    },
    {
      "cell_type": "code",
      "execution_count": null,
      "metadata": {
        "colab": {
          "base_uri": "https://localhost:8080/"
        },
        "id": "nWDiUGZXUPqD",
        "outputId": "199bce5f-2695-4a2e-f29f-c94187d712d8"
      },
      "outputs": [
        {
          "output_type": "stream",
          "name": "stdout",
          "text": [
            "Hello,everyone!Iam learing Python\n"
          ]
        }
      ],
      "source": [
        "print(\"Hello,everyone!Iam learing Python\")"
      ]
    },
    {
      "cell_type": "code",
      "source": [
        "# Task 2 :Declaring a Variables"
      ],
      "metadata": {
        "id": "Xzd7BKTvFDQi"
      },
      "execution_count": null,
      "outputs": []
    },
    {
      "cell_type": "code",
      "source": [
        "name = \"Sufiyan\"\n",
        "age = \"24\"\n",
        "favoriteAnimal = \"Boer goat\"\n",
        "print(name)\n",
        "print(age)\n",
        "print(favoriteAnimal)"
      ],
      "metadata": {
        "id": "0EDIFcBJVSbL",
        "colab": {
          "base_uri": "https://localhost:8080/"
        },
        "outputId": "ecdb8500-533b-4402-a98e-0a958627c1b8"
      },
      "execution_count": null,
      "outputs": [
        {
          "output_type": "stream",
          "name": "stdout",
          "text": [
            "Sufiyan\n",
            "24\n",
            "Boer goat\n"
          ]
        }
      ]
    },
    {
      "cell_type": "code",
      "source": [
        "# Task 3 :Combining Variables in a Message"
      ],
      "metadata": {
        "id": "942IzPE2FgoV"
      },
      "execution_count": null,
      "outputs": []
    },
    {
      "cell_type": "code",
      "source": [
        "print(\"My name is\",name,\",I am\",age,\"years old,and I love\",favoriteAnimal,\"!\")"
      ],
      "metadata": {
        "colab": {
          "base_uri": "https://localhost:8080/"
        },
        "id": "B86M0pjrabH7",
        "outputId": "2e55d4b5-128b-42f1-dae4-59ab98d239b0"
      },
      "execution_count": null,
      "outputs": [
        {
          "output_type": "stream",
          "name": "stdout",
          "text": [
            "My name is Sufiyan ,I am 24 years old,and I love Boer goat !\n"
          ]
        }
      ]
    },
    {
      "cell_type": "code",
      "source": [
        "# Task 4:Playing with Different Data Types"
      ],
      "metadata": {
        "id": "68IjHvI8FxRa"
      },
      "execution_count": null,
      "outputs": []
    },
    {
      "cell_type": "code",
      "source": [
        "fav_movi:str = \"The Social Network\"\n",
        "birth_year:int = \"1998\"\n",
        "fav_snack_price = \"250.5\""
      ],
      "metadata": {
        "id": "ofOHxbl8KlI_"
      },
      "execution_count": null,
      "outputs": []
    },
    {
      "cell_type": "code",
      "source": [
        "print(fav_movi)\n",
        "print(birth_year)\n",
        "print(fav_snack_price)"
      ],
      "metadata": {
        "colab": {
          "base_uri": "https://localhost:8080/"
        },
        "id": "k2VxMNl8Ld_m",
        "outputId": "688fb02a-9950-45c7-82cd-32e53885b52b"
      },
      "execution_count": null,
      "outputs": [
        {
          "output_type": "stream",
          "name": "stdout",
          "text": [
            "The Social Network\n",
            "1998\n",
            "250.5\n"
          ]
        }
      ]
    },
    {
      "cell_type": "code",
      "source": [
        "#Task 5:Your Favorite Hobby"
      ],
      "metadata": {
        "id": "mY8x6I9VO7iL"
      },
      "execution_count": null,
      "outputs": []
    },
    {
      "cell_type": "code",
      "source": [
        "hobby = \"books reading\"\n",
        "print(\"my favorate hobby is\",hobby,)"
      ],
      "metadata": {
        "colab": {
          "base_uri": "https://localhost:8080/"
        },
        "id": "sdX7aUcrOQl7",
        "outputId": "034a3f45-25c0-4b67-bb77-34339886e9ec"
      },
      "execution_count": null,
      "outputs": [
        {
          "output_type": "stream",
          "name": "stdout",
          "text": [
            "my favorate hobby is books reading\n"
          ]
        }
      ]
    },
    {
      "cell_type": "code",
      "source": [
        "# Extra Challenge"
      ],
      "metadata": {
        "id": "r1YrzmPdZRII"
      },
      "execution_count": null,
      "outputs": []
    },
    {
      "cell_type": "code",
      "source": [
        "a = 10\n",
        "b = 20\n",
        "c = a+b\n",
        "print(\"sum=\",c)"
      ],
      "metadata": {
        "colab": {
          "base_uri": "https://localhost:8080/"
        },
        "id": "fTtCcqELZgRt",
        "outputId": "ba83d95a-f5a8-446c-bde0-58ffe7cedc57"
      },
      "execution_count": 21,
      "outputs": [
        {
          "output_type": "stream",
          "name": "stdout",
          "text": [
            "sum= 30\n"
          ]
        }
      ]
    }
  ]
}